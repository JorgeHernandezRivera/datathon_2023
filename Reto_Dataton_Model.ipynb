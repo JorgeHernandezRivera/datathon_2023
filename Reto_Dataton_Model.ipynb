{
  "nbformat": 4,
  "nbformat_minor": 0,
  "metadata": {
    "colab": {
      "provenance": [],
      "gpuType": "T4",
      "include_colab_link": true
    },
    "kernelspec": {
      "name": "python3",
      "display_name": "Python 3"
    },
    "language_info": {
      "name": "python"
    },
    "accelerator": "GPU"
  },
  "cells": [
    {
      "cell_type": "markdown",
      "metadata": {
        "id": "view-in-github",
        "colab_type": "text"
      },
      "source": [
        "<a href=\"https://colab.research.google.com/github/JorgeHernandezRivera/datathon_2023/blob/main/Reto_Dataton_Model.ipynb\" target=\"_parent\"><img src=\"https://colab.research.google.com/assets/colab-badge.svg\" alt=\"Open In Colab\"/></a>"
      ]
    },
    {
      "cell_type": "markdown",
      "source": [
        "# Carga de Datos"
      ],
      "metadata": {
        "id": "AI3HwIfBsaU0"
      }
    },
    {
      "cell_type": "code",
      "execution_count": null,
      "metadata": {
        "id": "S-Uvx8Adbr9y"
      },
      "outputs": [],
      "source": [
        "import pandas as pd\n",
        "import numpy as np\n",
        "\n",
        "df = pd.read_csv('https://raw.githubusercontent.com/JorgeHernandezRivera/datathon_2023/main/data/clean_by_model.csv')"
      ]
    },
    {
      "cell_type": "markdown",
      "source": [
        "**Se subieron los datos limpios resultantes del cuaderno anterior de EDA al repositorio para no cargarlos manualmente desde este cuaderno de COLAB**"
      ],
      "metadata": {
        "id": "0TzY5x-GseBS"
      }
    },
    {
      "cell_type": "code",
      "source": [
        "df.head()"
      ],
      "metadata": {
        "colab": {
          "base_uri": "https://localhost:8080/",
          "height": 290
        },
        "id": "05PJ_DsxcCF-",
        "outputId": "f2ab0e4b-480d-4a25-e528-4d98e01ea358"
      },
      "execution_count": null,
      "outputs": [
        {
          "output_type": "execute_result",
          "data": {
            "text/plain": [
              "  Posición Area Liquidación   Grupo  CODIGO POSTAL          Motivo_Renuncia  \\\n",
              "0   POS514  LOG          S6  Exempt          32520          Vol-Otro empleo   \n",
              "1  POS1745  MFS          S5  Direct          32217          Vol-Otro empleo   \n",
              "2  POS1230  VS7          S5  Direct          32600          Vol-Otro empleo   \n",
              "3  POS1661  MFS          S5  Direct          32575             Vol-Estudios   \n",
              "4  POS1921  MFS          S5  Direct          32575  Vol-Cambio de domicilio   \n",
              "\n",
              "  Nivel_Salarial  Fecha_Baja Regla_PHT  Fecha_Alta  ...     Genero  \\\n",
              "0             E3  2023-01-02  ADMINIST  2018-06-21  ...   Femenino   \n",
              "1            DNO  2023-01-03  ADMINIST  2017-07-20  ...  Masculino   \n",
              "2            DNO  2023-01-03  JT012324  2019-08-29  ...  Masculino   \n",
              "3             DO  2023-01-03  JT012324  2022-11-03  ...   Femenino   \n",
              "4             DO  2023-01-03  JT012324  2017-03-02  ...  Masculino   \n",
              "\n",
              "   Lugar_Nacimiento  Nacionalidad Edad Tiempo_CDJuarez Estado_Civil  \\\n",
              "0     CIUDAD JUAREZ       Mexican   31       10+ Years      Soltero   \n",
              "1           DURANGO       Mexican   25       10+ Years      Soltero   \n",
              "2     CIUDAD JUAREZ       Mexican   23       10+ Years      Soltero   \n",
              "3     CIUDAD JUAREZ       Mexican   18       10+ Years      Soltero   \n",
              "4     CIUDAD JUAREZ       Mexican   26       10+ Years      Soltero   \n",
              "\n",
              "   Numero_Hijos RangoEdad Mes_Baja  Año_Baja  \n",
              "0             0     26-35        1      2023  \n",
              "1             0     26-35        1      2023  \n",
              "2             0     19-25        1      2023  \n",
              "3             0     19-25        1      2023  \n",
              "4             0     26-35        1      2023  \n",
              "\n",
              "[5 rows x 23 columns]"
            ],
            "text/html": [
              "\n",
              "  <div id=\"df-17da07dd-2881-4828-820a-3bc706960a31\" class=\"colab-df-container\">\n",
              "    <div>\n",
              "<style scoped>\n",
              "    .dataframe tbody tr th:only-of-type {\n",
              "        vertical-align: middle;\n",
              "    }\n",
              "\n",
              "    .dataframe tbody tr th {\n",
              "        vertical-align: top;\n",
              "    }\n",
              "\n",
              "    .dataframe thead th {\n",
              "        text-align: right;\n",
              "    }\n",
              "</style>\n",
              "<table border=\"1\" class=\"dataframe\">\n",
              "  <thead>\n",
              "    <tr style=\"text-align: right;\">\n",
              "      <th></th>\n",
              "      <th>Posición</th>\n",
              "      <th>Area</th>\n",
              "      <th>Liquidación</th>\n",
              "      <th>Grupo</th>\n",
              "      <th>CODIGO POSTAL</th>\n",
              "      <th>Motivo_Renuncia</th>\n",
              "      <th>Nivel_Salarial</th>\n",
              "      <th>Fecha_Baja</th>\n",
              "      <th>Regla_PHT</th>\n",
              "      <th>Fecha_Alta</th>\n",
              "      <th>...</th>\n",
              "      <th>Genero</th>\n",
              "      <th>Lugar_Nacimiento</th>\n",
              "      <th>Nacionalidad</th>\n",
              "      <th>Edad</th>\n",
              "      <th>Tiempo_CDJuarez</th>\n",
              "      <th>Estado_Civil</th>\n",
              "      <th>Numero_Hijos</th>\n",
              "      <th>RangoEdad</th>\n",
              "      <th>Mes_Baja</th>\n",
              "      <th>Año_Baja</th>\n",
              "    </tr>\n",
              "  </thead>\n",
              "  <tbody>\n",
              "    <tr>\n",
              "      <th>0</th>\n",
              "      <td>POS514</td>\n",
              "      <td>LOG</td>\n",
              "      <td>S6</td>\n",
              "      <td>Exempt</td>\n",
              "      <td>32520</td>\n",
              "      <td>Vol-Otro empleo</td>\n",
              "      <td>E3</td>\n",
              "      <td>2023-01-02</td>\n",
              "      <td>ADMINIST</td>\n",
              "      <td>2018-06-21</td>\n",
              "      <td>...</td>\n",
              "      <td>Femenino</td>\n",
              "      <td>CIUDAD JUAREZ</td>\n",
              "      <td>Mexican</td>\n",
              "      <td>31</td>\n",
              "      <td>10+ Years</td>\n",
              "      <td>Soltero</td>\n",
              "      <td>0</td>\n",
              "      <td>26-35</td>\n",
              "      <td>1</td>\n",
              "      <td>2023</td>\n",
              "    </tr>\n",
              "    <tr>\n",
              "      <th>1</th>\n",
              "      <td>POS1745</td>\n",
              "      <td>MFS</td>\n",
              "      <td>S5</td>\n",
              "      <td>Direct</td>\n",
              "      <td>32217</td>\n",
              "      <td>Vol-Otro empleo</td>\n",
              "      <td>DNO</td>\n",
              "      <td>2023-01-03</td>\n",
              "      <td>ADMINIST</td>\n",
              "      <td>2017-07-20</td>\n",
              "      <td>...</td>\n",
              "      <td>Masculino</td>\n",
              "      <td>DURANGO</td>\n",
              "      <td>Mexican</td>\n",
              "      <td>25</td>\n",
              "      <td>10+ Years</td>\n",
              "      <td>Soltero</td>\n",
              "      <td>0</td>\n",
              "      <td>26-35</td>\n",
              "      <td>1</td>\n",
              "      <td>2023</td>\n",
              "    </tr>\n",
              "    <tr>\n",
              "      <th>2</th>\n",
              "      <td>POS1230</td>\n",
              "      <td>VS7</td>\n",
              "      <td>S5</td>\n",
              "      <td>Direct</td>\n",
              "      <td>32600</td>\n",
              "      <td>Vol-Otro empleo</td>\n",
              "      <td>DNO</td>\n",
              "      <td>2023-01-03</td>\n",
              "      <td>JT012324</td>\n",
              "      <td>2019-08-29</td>\n",
              "      <td>...</td>\n",
              "      <td>Masculino</td>\n",
              "      <td>CIUDAD JUAREZ</td>\n",
              "      <td>Mexican</td>\n",
              "      <td>23</td>\n",
              "      <td>10+ Years</td>\n",
              "      <td>Soltero</td>\n",
              "      <td>0</td>\n",
              "      <td>19-25</td>\n",
              "      <td>1</td>\n",
              "      <td>2023</td>\n",
              "    </tr>\n",
              "    <tr>\n",
              "      <th>3</th>\n",
              "      <td>POS1661</td>\n",
              "      <td>MFS</td>\n",
              "      <td>S5</td>\n",
              "      <td>Direct</td>\n",
              "      <td>32575</td>\n",
              "      <td>Vol-Estudios</td>\n",
              "      <td>DO</td>\n",
              "      <td>2023-01-03</td>\n",
              "      <td>JT012324</td>\n",
              "      <td>2022-11-03</td>\n",
              "      <td>...</td>\n",
              "      <td>Femenino</td>\n",
              "      <td>CIUDAD JUAREZ</td>\n",
              "      <td>Mexican</td>\n",
              "      <td>18</td>\n",
              "      <td>10+ Years</td>\n",
              "      <td>Soltero</td>\n",
              "      <td>0</td>\n",
              "      <td>19-25</td>\n",
              "      <td>1</td>\n",
              "      <td>2023</td>\n",
              "    </tr>\n",
              "    <tr>\n",
              "      <th>4</th>\n",
              "      <td>POS1921</td>\n",
              "      <td>MFS</td>\n",
              "      <td>S5</td>\n",
              "      <td>Direct</td>\n",
              "      <td>32575</td>\n",
              "      <td>Vol-Cambio de domicilio</td>\n",
              "      <td>DO</td>\n",
              "      <td>2023-01-03</td>\n",
              "      <td>JT012324</td>\n",
              "      <td>2017-03-02</td>\n",
              "      <td>...</td>\n",
              "      <td>Masculino</td>\n",
              "      <td>CIUDAD JUAREZ</td>\n",
              "      <td>Mexican</td>\n",
              "      <td>26</td>\n",
              "      <td>10+ Years</td>\n",
              "      <td>Soltero</td>\n",
              "      <td>0</td>\n",
              "      <td>26-35</td>\n",
              "      <td>1</td>\n",
              "      <td>2023</td>\n",
              "    </tr>\n",
              "  </tbody>\n",
              "</table>\n",
              "<p>5 rows × 23 columns</p>\n",
              "</div>\n",
              "    <div class=\"colab-df-buttons\">\n",
              "\n",
              "  <div class=\"colab-df-container\">\n",
              "    <button class=\"colab-df-convert\" onclick=\"convertToInteractive('df-17da07dd-2881-4828-820a-3bc706960a31')\"\n",
              "            title=\"Convert this dataframe to an interactive table.\"\n",
              "            style=\"display:none;\">\n",
              "\n",
              "  <svg xmlns=\"http://www.w3.org/2000/svg\" height=\"24px\" viewBox=\"0 -960 960 960\">\n",
              "    <path d=\"M120-120v-720h720v720H120Zm60-500h600v-160H180v160Zm220 220h160v-160H400v160Zm0 220h160v-160H400v160ZM180-400h160v-160H180v160Zm440 0h160v-160H620v160ZM180-180h160v-160H180v160Zm440 0h160v-160H620v160Z\"/>\n",
              "  </svg>\n",
              "    </button>\n",
              "\n",
              "  <style>\n",
              "    .colab-df-container {\n",
              "      display:flex;\n",
              "      gap: 12px;\n",
              "    }\n",
              "\n",
              "    .colab-df-convert {\n",
              "      background-color: #E8F0FE;\n",
              "      border: none;\n",
              "      border-radius: 50%;\n",
              "      cursor: pointer;\n",
              "      display: none;\n",
              "      fill: #1967D2;\n",
              "      height: 32px;\n",
              "      padding: 0 0 0 0;\n",
              "      width: 32px;\n",
              "    }\n",
              "\n",
              "    .colab-df-convert:hover {\n",
              "      background-color: #E2EBFA;\n",
              "      box-shadow: 0px 1px 2px rgba(60, 64, 67, 0.3), 0px 1px 3px 1px rgba(60, 64, 67, 0.15);\n",
              "      fill: #174EA6;\n",
              "    }\n",
              "\n",
              "    .colab-df-buttons div {\n",
              "      margin-bottom: 4px;\n",
              "    }\n",
              "\n",
              "    [theme=dark] .colab-df-convert {\n",
              "      background-color: #3B4455;\n",
              "      fill: #D2E3FC;\n",
              "    }\n",
              "\n",
              "    [theme=dark] .colab-df-convert:hover {\n",
              "      background-color: #434B5C;\n",
              "      box-shadow: 0px 1px 3px 1px rgba(0, 0, 0, 0.15);\n",
              "      filter: drop-shadow(0px 1px 2px rgba(0, 0, 0, 0.3));\n",
              "      fill: #FFFFFF;\n",
              "    }\n",
              "  </style>\n",
              "\n",
              "    <script>\n",
              "      const buttonEl =\n",
              "        document.querySelector('#df-17da07dd-2881-4828-820a-3bc706960a31 button.colab-df-convert');\n",
              "      buttonEl.style.display =\n",
              "        google.colab.kernel.accessAllowed ? 'block' : 'none';\n",
              "\n",
              "      async function convertToInteractive(key) {\n",
              "        const element = document.querySelector('#df-17da07dd-2881-4828-820a-3bc706960a31');\n",
              "        const dataTable =\n",
              "          await google.colab.kernel.invokeFunction('convertToInteractive',\n",
              "                                                    [key], {});\n",
              "        if (!dataTable) return;\n",
              "\n",
              "        const docLinkHtml = 'Like what you see? Visit the ' +\n",
              "          '<a target=\"_blank\" href=https://colab.research.google.com/notebooks/data_table.ipynb>data table notebook</a>'\n",
              "          + ' to learn more about interactive tables.';\n",
              "        element.innerHTML = '';\n",
              "        dataTable['output_type'] = 'display_data';\n",
              "        await google.colab.output.renderOutput(dataTable, element);\n",
              "        const docLink = document.createElement('div');\n",
              "        docLink.innerHTML = docLinkHtml;\n",
              "        element.appendChild(docLink);\n",
              "      }\n",
              "    </script>\n",
              "  </div>\n",
              "\n",
              "\n",
              "<div id=\"df-7860d290-f101-48f9-b8d0-b9dd8228fb58\">\n",
              "  <button class=\"colab-df-quickchart\" onclick=\"quickchart('df-7860d290-f101-48f9-b8d0-b9dd8228fb58')\"\n",
              "            title=\"Suggest charts\"\n",
              "            style=\"display:none;\">\n",
              "\n",
              "<svg xmlns=\"http://www.w3.org/2000/svg\" height=\"24px\"viewBox=\"0 0 24 24\"\n",
              "     width=\"24px\">\n",
              "    <g>\n",
              "        <path d=\"M19 3H5c-1.1 0-2 .9-2 2v14c0 1.1.9 2 2 2h14c1.1 0 2-.9 2-2V5c0-1.1-.9-2-2-2zM9 17H7v-7h2v7zm4 0h-2V7h2v10zm4 0h-2v-4h2v4z\"/>\n",
              "    </g>\n",
              "</svg>\n",
              "  </button>\n",
              "\n",
              "<style>\n",
              "  .colab-df-quickchart {\n",
              "      --bg-color: #E8F0FE;\n",
              "      --fill-color: #1967D2;\n",
              "      --hover-bg-color: #E2EBFA;\n",
              "      --hover-fill-color: #174EA6;\n",
              "      --disabled-fill-color: #AAA;\n",
              "      --disabled-bg-color: #DDD;\n",
              "  }\n",
              "\n",
              "  [theme=dark] .colab-df-quickchart {\n",
              "      --bg-color: #3B4455;\n",
              "      --fill-color: #D2E3FC;\n",
              "      --hover-bg-color: #434B5C;\n",
              "      --hover-fill-color: #FFFFFF;\n",
              "      --disabled-bg-color: #3B4455;\n",
              "      --disabled-fill-color: #666;\n",
              "  }\n",
              "\n",
              "  .colab-df-quickchart {\n",
              "    background-color: var(--bg-color);\n",
              "    border: none;\n",
              "    border-radius: 50%;\n",
              "    cursor: pointer;\n",
              "    display: none;\n",
              "    fill: var(--fill-color);\n",
              "    height: 32px;\n",
              "    padding: 0;\n",
              "    width: 32px;\n",
              "  }\n",
              "\n",
              "  .colab-df-quickchart:hover {\n",
              "    background-color: var(--hover-bg-color);\n",
              "    box-shadow: 0 1px 2px rgba(60, 64, 67, 0.3), 0 1px 3px 1px rgba(60, 64, 67, 0.15);\n",
              "    fill: var(--button-hover-fill-color);\n",
              "  }\n",
              "\n",
              "  .colab-df-quickchart-complete:disabled,\n",
              "  .colab-df-quickchart-complete:disabled:hover {\n",
              "    background-color: var(--disabled-bg-color);\n",
              "    fill: var(--disabled-fill-color);\n",
              "    box-shadow: none;\n",
              "  }\n",
              "\n",
              "  .colab-df-spinner {\n",
              "    border: 2px solid var(--fill-color);\n",
              "    border-color: transparent;\n",
              "    border-bottom-color: var(--fill-color);\n",
              "    animation:\n",
              "      spin 1s steps(1) infinite;\n",
              "  }\n",
              "\n",
              "  @keyframes spin {\n",
              "    0% {\n",
              "      border-color: transparent;\n",
              "      border-bottom-color: var(--fill-color);\n",
              "      border-left-color: var(--fill-color);\n",
              "    }\n",
              "    20% {\n",
              "      border-color: transparent;\n",
              "      border-left-color: var(--fill-color);\n",
              "      border-top-color: var(--fill-color);\n",
              "    }\n",
              "    30% {\n",
              "      border-color: transparent;\n",
              "      border-left-color: var(--fill-color);\n",
              "      border-top-color: var(--fill-color);\n",
              "      border-right-color: var(--fill-color);\n",
              "    }\n",
              "    40% {\n",
              "      border-color: transparent;\n",
              "      border-right-color: var(--fill-color);\n",
              "      border-top-color: var(--fill-color);\n",
              "    }\n",
              "    60% {\n",
              "      border-color: transparent;\n",
              "      border-right-color: var(--fill-color);\n",
              "    }\n",
              "    80% {\n",
              "      border-color: transparent;\n",
              "      border-right-color: var(--fill-color);\n",
              "      border-bottom-color: var(--fill-color);\n",
              "    }\n",
              "    90% {\n",
              "      border-color: transparent;\n",
              "      border-bottom-color: var(--fill-color);\n",
              "    }\n",
              "  }\n",
              "</style>\n",
              "\n",
              "  <script>\n",
              "    async function quickchart(key) {\n",
              "      const quickchartButtonEl =\n",
              "        document.querySelector('#' + key + ' button');\n",
              "      quickchartButtonEl.disabled = true;  // To prevent multiple clicks.\n",
              "      quickchartButtonEl.classList.add('colab-df-spinner');\n",
              "      try {\n",
              "        const charts = await google.colab.kernel.invokeFunction(\n",
              "            'suggestCharts', [key], {});\n",
              "      } catch (error) {\n",
              "        console.error('Error during call to suggestCharts:', error);\n",
              "      }\n",
              "      quickchartButtonEl.classList.remove('colab-df-spinner');\n",
              "      quickchartButtonEl.classList.add('colab-df-quickchart-complete');\n",
              "    }\n",
              "    (() => {\n",
              "      let quickchartButtonEl =\n",
              "        document.querySelector('#df-7860d290-f101-48f9-b8d0-b9dd8228fb58 button');\n",
              "      quickchartButtonEl.style.display =\n",
              "        google.colab.kernel.accessAllowed ? 'block' : 'none';\n",
              "    })();\n",
              "  </script>\n",
              "</div>\n",
              "    </div>\n",
              "  </div>\n"
            ]
          },
          "metadata": {},
          "execution_count": 6
        }
      ]
    },
    {
      "cell_type": "code",
      "source": [
        "df.info()"
      ],
      "metadata": {
        "colab": {
          "base_uri": "https://localhost:8080/"
        },
        "id": "RIA_hlmXcErs",
        "outputId": "9f124371-11a2-4809-f3a5-85cff293c856"
      },
      "execution_count": null,
      "outputs": [
        {
          "output_type": "stream",
          "name": "stdout",
          "text": [
            "<class 'pandas.core.frame.DataFrame'>\n",
            "RangeIndex: 1403 entries, 0 to 1402\n",
            "Data columns (total 23 columns):\n",
            " #   Column            Non-Null Count  Dtype  \n",
            "---  ------            --------------  -----  \n",
            " 0   Posición          1403 non-null   object \n",
            " 1   Area              1403 non-null   object \n",
            " 2   Liquidación       1403 non-null   object \n",
            " 3   Grupo             1403 non-null   object \n",
            " 4   CODIGO POSTAL     1403 non-null   int64  \n",
            " 5   Motivo_Renuncia   1403 non-null   object \n",
            " 6   Nivel_Salarial    1403 non-null   object \n",
            " 7   Fecha_Baja        1403 non-null   object \n",
            " 8   Regla_PHT         1403 non-null   object \n",
            " 9   Fecha_Alta        1403 non-null   object \n",
            " 10  Años              1403 non-null   int64  \n",
            " 11  Meses             1403 non-null   float64\n",
            " 12  Antigüedad        1403 non-null   int64  \n",
            " 13  Genero            1403 non-null   object \n",
            " 14  Lugar_Nacimiento  1403 non-null   object \n",
            " 15  Nacionalidad      1403 non-null   object \n",
            " 16  Edad              1403 non-null   int64  \n",
            " 17  Tiempo_CDJuarez   1403 non-null   object \n",
            " 18  Estado_Civil      1403 non-null   object \n",
            " 19  Numero_Hijos      1403 non-null   int64  \n",
            " 20  RangoEdad         1403 non-null   object \n",
            " 21  Mes_Baja          1403 non-null   int64  \n",
            " 22  Año_Baja          1403 non-null   int64  \n",
            "dtypes: float64(1), int64(7), object(15)\n",
            "memory usage: 252.2+ KB\n"
          ]
        }
      ]
    },
    {
      "cell_type": "code",
      "source": [
        "df['Motivo_Renuncia'].value_counts().head(15)"
      ],
      "metadata": {
        "colab": {
          "base_uri": "https://localhost:8080/"
        },
        "id": "iibey73dcGYW",
        "outputId": "29ffe417-cbdf-4960-ec28-9199ac73f146"
      },
      "execution_count": null,
      "outputs": [
        {
          "output_type": "execute_result",
          "data": {
            "text/plain": [
              "Vol-Otro empleo                     308\n",
              "Vol-Transferencia entre planta      237\n",
              "Vol-No regreso / no dio razón       218\n",
              "Vol-Prob personales y/o fam.        197\n",
              "Vol-Insatisfacción personal          94\n",
              "Vol-Cambio de domicilio              89\n",
              "Imp.Tra-Ausentismos continuos        71\n",
              "Vol-Estudios                         68\n",
              "Imp.Tra-Jubilación                   33\n",
              "Vol-Razones médicas                  28\n",
              "Imp.Tra-LFT y/o Reglamento int       12\n",
              "Imp.Tra-LFT y/o Reglamento Int.      12\n",
              "Imp.Pat-Pensionado IMSS               8\n",
              "Imp.Pat-Terminación del Contrato      6\n",
              "Imp.Tra-Bajo desempeño                3\n",
              "Name: Motivo_Renuncia, dtype: int64"
            ]
          },
          "metadata": {},
          "execution_count": 8
        }
      ]
    },
    {
      "cell_type": "markdown",
      "source": [
        "**Viendo los principales 15 motivos de renuncia para la determinacion del modelo de clasificacion multiclase**"
      ],
      "metadata": {
        "id": "hhBTiC64uID-"
      }
    },
    {
      "cell_type": "markdown",
      "source": [
        "# Top 15 valores principales y Top 5 valores principales"
      ],
      "metadata": {
        "id": "ByTv_7CEd0LZ"
      }
    },
    {
      "cell_type": "code",
      "source": [
        "top_15_motivos = df['Motivo_Renuncia'].value_counts().head(15).index.tolist()\n",
        "top_5_motivos = df['Motivo_Renuncia'].value_counts().head(5).index.tolist()\n",
        "\n",
        "# Filtro del dataframe original y auxiliar de acuerdo al top 15 y top5\n",
        "df = df[df['Motivo_Renuncia'].isin(top_15_motivos)]\n",
        "df_adicional = df[df['Motivo_Renuncia'].isin(top_5_motivos)]\n"
      ],
      "metadata": {
        "id": "CF5Hn1pFd3Wx"
      },
      "execution_count": null,
      "outputs": []
    },
    {
      "cell_type": "markdown",
      "source": [
        "**Se dividio de esta manera para poder gestionar el futuro multiclase con mayor exactitud**"
      ],
      "metadata": {
        "id": "NXTUnVdPghzz"
      }
    },
    {
      "cell_type": "code",
      "source": [
        "df['Motivo_Renuncia'].value_counts()"
      ],
      "metadata": {
        "colab": {
          "base_uri": "https://localhost:8080/"
        },
        "id": "2RCICimSdC1S",
        "outputId": "72639bc4-9b1e-4450-d717-7aa629da3922"
      },
      "execution_count": null,
      "outputs": [
        {
          "output_type": "execute_result",
          "data": {
            "text/plain": [
              "Vol-Otro empleo                     308\n",
              "Vol-Transferencia entre planta      237\n",
              "Vol-No regreso / no dio razón       218\n",
              "Vol-Prob personales y/o fam.        197\n",
              "Vol-Insatisfacción personal          94\n",
              "Vol-Cambio de domicilio              89\n",
              "Imp.Tra-Ausentismos continuos        71\n",
              "Vol-Estudios                         68\n",
              "Imp.Tra-Jubilación                   33\n",
              "Vol-Razones médicas                  28\n",
              "Imp.Tra-LFT y/o Reglamento int       12\n",
              "Imp.Tra-LFT y/o Reglamento Int.      12\n",
              "Imp.Pat-Pensionado IMSS               8\n",
              "Imp.Pat-Terminación del Contrato      6\n",
              "Imp.Tra-Bajo desempeño                3\n",
              "Name: Motivo_Renuncia, dtype: int64"
            ]
          },
          "metadata": {},
          "execution_count": 6
        }
      ]
    },
    {
      "cell_type": "code",
      "source": [
        "df_adicional['Motivo_Renuncia'].value_counts()"
      ],
      "metadata": {
        "colab": {
          "base_uri": "https://localhost:8080/"
        },
        "id": "u8uLSBpEmJH-",
        "outputId": "0c9fa118-58f1-4fc9-934f-61485df00f57"
      },
      "execution_count": null,
      "outputs": [
        {
          "output_type": "execute_result",
          "data": {
            "text/plain": [
              "Vol-Otro empleo                   308\n",
              "Vol-Transferencia entre planta    237\n",
              "Vol-No regreso / no dio razón     218\n",
              "Vol-Prob personales y/o fam.      197\n",
              "Vol-Insatisfacción personal        94\n",
              "Name: Motivo_Renuncia, dtype: int64"
            ]
          },
          "metadata": {},
          "execution_count": 7
        }
      ]
    },
    {
      "cell_type": "markdown",
      "source": [
        "# Preparacion Datos\n"
      ],
      "metadata": {
        "id": "NesqOr9Eees1"
      }
    },
    {
      "cell_type": "code",
      "source": [
        "#Borrar columnas innecesarias para el modelo\n",
        "df = df.drop(['Posición','CODIGO POSTAL','Fecha_Baja','Fecha_Alta','Antigüedad','Lugar_Nacimiento','Nacionalidad',\n",
        "         'RangoEdad','Mes_Baja','Año_Baja'],axis=1)\n",
        "\n",
        "df_adicional = df_adicional.drop(['Posición','CODIGO POSTAL','Fecha_Baja','Fecha_Alta','Antigüedad','Lugar_Nacimiento','Nacionalidad',\n",
        "         'RangoEdad','Mes_Baja','Año_Baja'],axis=1)"
      ],
      "metadata": {
        "id": "OdSMTTb8fIhh"
      },
      "execution_count": null,
      "outputs": []
    },
    {
      "cell_type": "code",
      "source": [
        "df.info()"
      ],
      "metadata": {
        "colab": {
          "base_uri": "https://localhost:8080/"
        },
        "id": "rp-KGRNLd8dE",
        "outputId": "7aec4044-3f5c-4dd9-dc76-870bde7433a9"
      },
      "execution_count": null,
      "outputs": [
        {
          "output_type": "stream",
          "name": "stdout",
          "text": [
            "<class 'pandas.core.frame.DataFrame'>\n",
            "Int64Index: 1384 entries, 0 to 1402\n",
            "Data columns (total 13 columns):\n",
            " #   Column           Non-Null Count  Dtype  \n",
            "---  ------           --------------  -----  \n",
            " 0   Area             1384 non-null   object \n",
            " 1   Liquidación      1384 non-null   object \n",
            " 2   Grupo            1384 non-null   object \n",
            " 3   Motivo_Renuncia  1384 non-null   object \n",
            " 4   Nivel_Salarial   1384 non-null   object \n",
            " 5   Regla_PHT        1384 non-null   object \n",
            " 6   Años             1384 non-null   int64  \n",
            " 7   Meses            1384 non-null   float64\n",
            " 8   Genero           1384 non-null   object \n",
            " 9   Edad             1384 non-null   int64  \n",
            " 10  Tiempo_CDJuarez  1384 non-null   object \n",
            " 11  Estado_Civil     1384 non-null   object \n",
            " 12  Numero_Hijos     1384 non-null   int64  \n",
            "dtypes: float64(1), int64(3), object(9)\n",
            "memory usage: 151.4+ KB\n"
          ]
        }
      ]
    },
    {
      "cell_type": "code",
      "source": [
        "df_adicional.info()"
      ],
      "metadata": {
        "colab": {
          "base_uri": "https://localhost:8080/"
        },
        "id": "pkrLur-7mT8j",
        "outputId": "1ac0cfa8-5862-4aff-c199-2bed2b0b99b4"
      },
      "execution_count": null,
      "outputs": [
        {
          "output_type": "stream",
          "name": "stdout",
          "text": [
            "<class 'pandas.core.frame.DataFrame'>\n",
            "Int64Index: 1054 entries, 0 to 1400\n",
            "Data columns (total 13 columns):\n",
            " #   Column           Non-Null Count  Dtype  \n",
            "---  ------           --------------  -----  \n",
            " 0   Area             1054 non-null   object \n",
            " 1   Liquidación      1054 non-null   object \n",
            " 2   Grupo            1054 non-null   object \n",
            " 3   Motivo_Renuncia  1054 non-null   object \n",
            " 4   Nivel_Salarial   1054 non-null   object \n",
            " 5   Regla_PHT        1054 non-null   object \n",
            " 6   Años             1054 non-null   int64  \n",
            " 7   Meses            1054 non-null   float64\n",
            " 8   Genero           1054 non-null   object \n",
            " 9   Edad             1054 non-null   int64  \n",
            " 10  Tiempo_CDJuarez  1054 non-null   object \n",
            " 11  Estado_Civil     1054 non-null   object \n",
            " 12  Numero_Hijos     1054 non-null   int64  \n",
            "dtypes: float64(1), int64(3), object(9)\n",
            "memory usage: 115.3+ KB\n"
          ]
        }
      ]
    },
    {
      "cell_type": "markdown",
      "source": [
        "# Codificacion variables categoricas\n",
        "\n",
        "Es necesario codificar las variables categoricas para poder usar el modelo de manera adecuada, incluida la variable objetivo en ambos dataframes"
      ],
      "metadata": {
        "id": "YIwnkvedgg9U"
      }
    },
    {
      "cell_type": "code",
      "source": [
        "from sklearn.preprocessing import LabelEncoder\n",
        "\n",
        "# Lista de columnas categóricas que quieres codificar\n",
        "columnas_categoricas = ['Area', 'Liquidación', 'Grupo', 'Motivo_Renuncia', 'Nivel_Salarial',\n",
        "                         'Regla_PHT', 'Genero', 'Tiempo_CDJuarez', 'Estado_Civil']\n",
        "\n",
        "# Aplica LabelEncoder a cada columna categórica\n",
        "label_encoder = LabelEncoder()\n",
        "for columna in columnas_categoricas:\n",
        "    df[columna] = label_encoder.fit_transform(df[columna])\n",
        "    df_adicional[columna] = label_encoder.fit_transform(df_adicional[columna])\n",
        "\n",
        "# Ahora, las columnas categóricas tienen valores numéricos asignados\n",
        "df.head()"
      ],
      "metadata": {
        "colab": {
          "base_uri": "https://localhost:8080/",
          "height": 206
        },
        "id": "F5cdP6LReBLB",
        "outputId": "c5ea16ee-5826-4b04-e6ca-941d643abf75"
      },
      "execution_count": null,
      "outputs": [
        {
          "output_type": "execute_result",
          "data": {
            "text/plain": [
              "   Area  Liquidación  Grupo  Motivo_Renuncia  Nivel_Salarial  Regla_PHT  Años  \\\n",
              "0     6            1      1               11               2          0     5   \n",
              "1     7            0      0               11               0          0     6   \n",
              "2    14            0      0               11               0          5     4   \n",
              "3     7            0      0                8               1          5     1   \n",
              "4     7            0      0                7               1          5     6   \n",
              "\n",
              "       Meses  Genero  Edad  Tiempo_CDJuarez  Estado_Civil  Numero_Hijos  \n",
              "0  55.200000       0    31                2             5             0  \n",
              "1  66.433333       1    25                2             5             0  \n",
              "2  40.766667       1    23                2             5             0  \n",
              "3   2.033333       0    18                2             5             0  \n",
              "4  71.100000       1    26                2             5             0  "
            ],
            "text/html": [
              "\n",
              "  <div id=\"df-a357ee08-5af5-4e58-b8ed-4dc1a2cf609d\" class=\"colab-df-container\">\n",
              "    <div>\n",
              "<style scoped>\n",
              "    .dataframe tbody tr th:only-of-type {\n",
              "        vertical-align: middle;\n",
              "    }\n",
              "\n",
              "    .dataframe tbody tr th {\n",
              "        vertical-align: top;\n",
              "    }\n",
              "\n",
              "    .dataframe thead th {\n",
              "        text-align: right;\n",
              "    }\n",
              "</style>\n",
              "<table border=\"1\" class=\"dataframe\">\n",
              "  <thead>\n",
              "    <tr style=\"text-align: right;\">\n",
              "      <th></th>\n",
              "      <th>Area</th>\n",
              "      <th>Liquidación</th>\n",
              "      <th>Grupo</th>\n",
              "      <th>Motivo_Renuncia</th>\n",
              "      <th>Nivel_Salarial</th>\n",
              "      <th>Regla_PHT</th>\n",
              "      <th>Años</th>\n",
              "      <th>Meses</th>\n",
              "      <th>Genero</th>\n",
              "      <th>Edad</th>\n",
              "      <th>Tiempo_CDJuarez</th>\n",
              "      <th>Estado_Civil</th>\n",
              "      <th>Numero_Hijos</th>\n",
              "    </tr>\n",
              "  </thead>\n",
              "  <tbody>\n",
              "    <tr>\n",
              "      <th>0</th>\n",
              "      <td>6</td>\n",
              "      <td>1</td>\n",
              "      <td>1</td>\n",
              "      <td>11</td>\n",
              "      <td>2</td>\n",
              "      <td>0</td>\n",
              "      <td>5</td>\n",
              "      <td>55.200000</td>\n",
              "      <td>0</td>\n",
              "      <td>31</td>\n",
              "      <td>2</td>\n",
              "      <td>5</td>\n",
              "      <td>0</td>\n",
              "    </tr>\n",
              "    <tr>\n",
              "      <th>1</th>\n",
              "      <td>7</td>\n",
              "      <td>0</td>\n",
              "      <td>0</td>\n",
              "      <td>11</td>\n",
              "      <td>0</td>\n",
              "      <td>0</td>\n",
              "      <td>6</td>\n",
              "      <td>66.433333</td>\n",
              "      <td>1</td>\n",
              "      <td>25</td>\n",
              "      <td>2</td>\n",
              "      <td>5</td>\n",
              "      <td>0</td>\n",
              "    </tr>\n",
              "    <tr>\n",
              "      <th>2</th>\n",
              "      <td>14</td>\n",
              "      <td>0</td>\n",
              "      <td>0</td>\n",
              "      <td>11</td>\n",
              "      <td>0</td>\n",
              "      <td>5</td>\n",
              "      <td>4</td>\n",
              "      <td>40.766667</td>\n",
              "      <td>1</td>\n",
              "      <td>23</td>\n",
              "      <td>2</td>\n",
              "      <td>5</td>\n",
              "      <td>0</td>\n",
              "    </tr>\n",
              "    <tr>\n",
              "      <th>3</th>\n",
              "      <td>7</td>\n",
              "      <td>0</td>\n",
              "      <td>0</td>\n",
              "      <td>8</td>\n",
              "      <td>1</td>\n",
              "      <td>5</td>\n",
              "      <td>1</td>\n",
              "      <td>2.033333</td>\n",
              "      <td>0</td>\n",
              "      <td>18</td>\n",
              "      <td>2</td>\n",
              "      <td>5</td>\n",
              "      <td>0</td>\n",
              "    </tr>\n",
              "    <tr>\n",
              "      <th>4</th>\n",
              "      <td>7</td>\n",
              "      <td>0</td>\n",
              "      <td>0</td>\n",
              "      <td>7</td>\n",
              "      <td>1</td>\n",
              "      <td>5</td>\n",
              "      <td>6</td>\n",
              "      <td>71.100000</td>\n",
              "      <td>1</td>\n",
              "      <td>26</td>\n",
              "      <td>2</td>\n",
              "      <td>5</td>\n",
              "      <td>0</td>\n",
              "    </tr>\n",
              "  </tbody>\n",
              "</table>\n",
              "</div>\n",
              "    <div class=\"colab-df-buttons\">\n",
              "\n",
              "  <div class=\"colab-df-container\">\n",
              "    <button class=\"colab-df-convert\" onclick=\"convertToInteractive('df-a357ee08-5af5-4e58-b8ed-4dc1a2cf609d')\"\n",
              "            title=\"Convert this dataframe to an interactive table.\"\n",
              "            style=\"display:none;\">\n",
              "\n",
              "  <svg xmlns=\"http://www.w3.org/2000/svg\" height=\"24px\" viewBox=\"0 -960 960 960\">\n",
              "    <path d=\"M120-120v-720h720v720H120Zm60-500h600v-160H180v160Zm220 220h160v-160H400v160Zm0 220h160v-160H400v160ZM180-400h160v-160H180v160Zm440 0h160v-160H620v160ZM180-180h160v-160H180v160Zm440 0h160v-160H620v160Z\"/>\n",
              "  </svg>\n",
              "    </button>\n",
              "\n",
              "  <style>\n",
              "    .colab-df-container {\n",
              "      display:flex;\n",
              "      gap: 12px;\n",
              "    }\n",
              "\n",
              "    .colab-df-convert {\n",
              "      background-color: #E8F0FE;\n",
              "      border: none;\n",
              "      border-radius: 50%;\n",
              "      cursor: pointer;\n",
              "      display: none;\n",
              "      fill: #1967D2;\n",
              "      height: 32px;\n",
              "      padding: 0 0 0 0;\n",
              "      width: 32px;\n",
              "    }\n",
              "\n",
              "    .colab-df-convert:hover {\n",
              "      background-color: #E2EBFA;\n",
              "      box-shadow: 0px 1px 2px rgba(60, 64, 67, 0.3), 0px 1px 3px 1px rgba(60, 64, 67, 0.15);\n",
              "      fill: #174EA6;\n",
              "    }\n",
              "\n",
              "    .colab-df-buttons div {\n",
              "      margin-bottom: 4px;\n",
              "    }\n",
              "\n",
              "    [theme=dark] .colab-df-convert {\n",
              "      background-color: #3B4455;\n",
              "      fill: #D2E3FC;\n",
              "    }\n",
              "\n",
              "    [theme=dark] .colab-df-convert:hover {\n",
              "      background-color: #434B5C;\n",
              "      box-shadow: 0px 1px 3px 1px rgba(0, 0, 0, 0.15);\n",
              "      filter: drop-shadow(0px 1px 2px rgba(0, 0, 0, 0.3));\n",
              "      fill: #FFFFFF;\n",
              "    }\n",
              "  </style>\n",
              "\n",
              "    <script>\n",
              "      const buttonEl =\n",
              "        document.querySelector('#df-a357ee08-5af5-4e58-b8ed-4dc1a2cf609d button.colab-df-convert');\n",
              "      buttonEl.style.display =\n",
              "        google.colab.kernel.accessAllowed ? 'block' : 'none';\n",
              "\n",
              "      async function convertToInteractive(key) {\n",
              "        const element = document.querySelector('#df-a357ee08-5af5-4e58-b8ed-4dc1a2cf609d');\n",
              "        const dataTable =\n",
              "          await google.colab.kernel.invokeFunction('convertToInteractive',\n",
              "                                                    [key], {});\n",
              "        if (!dataTable) return;\n",
              "\n",
              "        const docLinkHtml = 'Like what you see? Visit the ' +\n",
              "          '<a target=\"_blank\" href=https://colab.research.google.com/notebooks/data_table.ipynb>data table notebook</a>'\n",
              "          + ' to learn more about interactive tables.';\n",
              "        element.innerHTML = '';\n",
              "        dataTable['output_type'] = 'display_data';\n",
              "        await google.colab.output.renderOutput(dataTable, element);\n",
              "        const docLink = document.createElement('div');\n",
              "        docLink.innerHTML = docLinkHtml;\n",
              "        element.appendChild(docLink);\n",
              "      }\n",
              "    </script>\n",
              "  </div>\n",
              "\n",
              "\n",
              "<div id=\"df-6b605fb6-fedc-4599-9a4b-05b481556357\">\n",
              "  <button class=\"colab-df-quickchart\" onclick=\"quickchart('df-6b605fb6-fedc-4599-9a4b-05b481556357')\"\n",
              "            title=\"Suggest charts\"\n",
              "            style=\"display:none;\">\n",
              "\n",
              "<svg xmlns=\"http://www.w3.org/2000/svg\" height=\"24px\"viewBox=\"0 0 24 24\"\n",
              "     width=\"24px\">\n",
              "    <g>\n",
              "        <path d=\"M19 3H5c-1.1 0-2 .9-2 2v14c0 1.1.9 2 2 2h14c1.1 0 2-.9 2-2V5c0-1.1-.9-2-2-2zM9 17H7v-7h2v7zm4 0h-2V7h2v10zm4 0h-2v-4h2v4z\"/>\n",
              "    </g>\n",
              "</svg>\n",
              "  </button>\n",
              "\n",
              "<style>\n",
              "  .colab-df-quickchart {\n",
              "      --bg-color: #E8F0FE;\n",
              "      --fill-color: #1967D2;\n",
              "      --hover-bg-color: #E2EBFA;\n",
              "      --hover-fill-color: #174EA6;\n",
              "      --disabled-fill-color: #AAA;\n",
              "      --disabled-bg-color: #DDD;\n",
              "  }\n",
              "\n",
              "  [theme=dark] .colab-df-quickchart {\n",
              "      --bg-color: #3B4455;\n",
              "      --fill-color: #D2E3FC;\n",
              "      --hover-bg-color: #434B5C;\n",
              "      --hover-fill-color: #FFFFFF;\n",
              "      --disabled-bg-color: #3B4455;\n",
              "      --disabled-fill-color: #666;\n",
              "  }\n",
              "\n",
              "  .colab-df-quickchart {\n",
              "    background-color: var(--bg-color);\n",
              "    border: none;\n",
              "    border-radius: 50%;\n",
              "    cursor: pointer;\n",
              "    display: none;\n",
              "    fill: var(--fill-color);\n",
              "    height: 32px;\n",
              "    padding: 0;\n",
              "    width: 32px;\n",
              "  }\n",
              "\n",
              "  .colab-df-quickchart:hover {\n",
              "    background-color: var(--hover-bg-color);\n",
              "    box-shadow: 0 1px 2px rgba(60, 64, 67, 0.3), 0 1px 3px 1px rgba(60, 64, 67, 0.15);\n",
              "    fill: var(--button-hover-fill-color);\n",
              "  }\n",
              "\n",
              "  .colab-df-quickchart-complete:disabled,\n",
              "  .colab-df-quickchart-complete:disabled:hover {\n",
              "    background-color: var(--disabled-bg-color);\n",
              "    fill: var(--disabled-fill-color);\n",
              "    box-shadow: none;\n",
              "  }\n",
              "\n",
              "  .colab-df-spinner {\n",
              "    border: 2px solid var(--fill-color);\n",
              "    border-color: transparent;\n",
              "    border-bottom-color: var(--fill-color);\n",
              "    animation:\n",
              "      spin 1s steps(1) infinite;\n",
              "  }\n",
              "\n",
              "  @keyframes spin {\n",
              "    0% {\n",
              "      border-color: transparent;\n",
              "      border-bottom-color: var(--fill-color);\n",
              "      border-left-color: var(--fill-color);\n",
              "    }\n",
              "    20% {\n",
              "      border-color: transparent;\n",
              "      border-left-color: var(--fill-color);\n",
              "      border-top-color: var(--fill-color);\n",
              "    }\n",
              "    30% {\n",
              "      border-color: transparent;\n",
              "      border-left-color: var(--fill-color);\n",
              "      border-top-color: var(--fill-color);\n",
              "      border-right-color: var(--fill-color);\n",
              "    }\n",
              "    40% {\n",
              "      border-color: transparent;\n",
              "      border-right-color: var(--fill-color);\n",
              "      border-top-color: var(--fill-color);\n",
              "    }\n",
              "    60% {\n",
              "      border-color: transparent;\n",
              "      border-right-color: var(--fill-color);\n",
              "    }\n",
              "    80% {\n",
              "      border-color: transparent;\n",
              "      border-right-color: var(--fill-color);\n",
              "      border-bottom-color: var(--fill-color);\n",
              "    }\n",
              "    90% {\n",
              "      border-color: transparent;\n",
              "      border-bottom-color: var(--fill-color);\n",
              "    }\n",
              "  }\n",
              "</style>\n",
              "\n",
              "  <script>\n",
              "    async function quickchart(key) {\n",
              "      const quickchartButtonEl =\n",
              "        document.querySelector('#' + key + ' button');\n",
              "      quickchartButtonEl.disabled = true;  // To prevent multiple clicks.\n",
              "      quickchartButtonEl.classList.add('colab-df-spinner');\n",
              "      try {\n",
              "        const charts = await google.colab.kernel.invokeFunction(\n",
              "            'suggestCharts', [key], {});\n",
              "      } catch (error) {\n",
              "        console.error('Error during call to suggestCharts:', error);\n",
              "      }\n",
              "      quickchartButtonEl.classList.remove('colab-df-spinner');\n",
              "      quickchartButtonEl.classList.add('colab-df-quickchart-complete');\n",
              "    }\n",
              "    (() => {\n",
              "      let quickchartButtonEl =\n",
              "        document.querySelector('#df-6b605fb6-fedc-4599-9a4b-05b481556357 button');\n",
              "      quickchartButtonEl.style.display =\n",
              "        google.colab.kernel.accessAllowed ? 'block' : 'none';\n",
              "    })();\n",
              "  </script>\n",
              "</div>\n",
              "    </div>\n",
              "  </div>\n"
            ]
          },
          "metadata": {},
          "execution_count": 11
        }
      ]
    },
    {
      "cell_type": "code",
      "source": [
        "df_adicional.head()"
      ],
      "metadata": {
        "colab": {
          "base_uri": "https://localhost:8080/",
          "height": 206
        },
        "id": "nBO8-O2mmftW",
        "outputId": "3114f274-12aa-4e1c-f037-53ddf4138618"
      },
      "execution_count": null,
      "outputs": [
        {
          "output_type": "execute_result",
          "data": {
            "text/plain": [
              "   Area  Liquidación  Grupo  Motivo_Renuncia  Nivel_Salarial  Regla_PHT  Años  \\\n",
              "0     6            1      1                2               2          0     5   \n",
              "1     7            0      0                2               0          0     6   \n",
              "2    14            0      0                2               0          5     4   \n",
              "5    10            0      0                2               0          2     5   \n",
              "7     7            0      0                2               1          3     3   \n",
              "\n",
              "       Meses  Genero  Edad  Tiempo_CDJuarez  Estado_Civil  Numero_Hijos  \n",
              "0  55.200000       0    31                2             4             0  \n",
              "1  66.433333       1    25                2             4             0  \n",
              "2  40.766667       1    23                2             4             0  \n",
              "5  52.666667       1    38                2             0             3  \n",
              "7  24.900000       0    27                2             4             1  "
            ],
            "text/html": [
              "\n",
              "  <div id=\"df-bd756269-4080-49c3-a9c5-de84f88f2561\" class=\"colab-df-container\">\n",
              "    <div>\n",
              "<style scoped>\n",
              "    .dataframe tbody tr th:only-of-type {\n",
              "        vertical-align: middle;\n",
              "    }\n",
              "\n",
              "    .dataframe tbody tr th {\n",
              "        vertical-align: top;\n",
              "    }\n",
              "\n",
              "    .dataframe thead th {\n",
              "        text-align: right;\n",
              "    }\n",
              "</style>\n",
              "<table border=\"1\" class=\"dataframe\">\n",
              "  <thead>\n",
              "    <tr style=\"text-align: right;\">\n",
              "      <th></th>\n",
              "      <th>Area</th>\n",
              "      <th>Liquidación</th>\n",
              "      <th>Grupo</th>\n",
              "      <th>Motivo_Renuncia</th>\n",
              "      <th>Nivel_Salarial</th>\n",
              "      <th>Regla_PHT</th>\n",
              "      <th>Años</th>\n",
              "      <th>Meses</th>\n",
              "      <th>Genero</th>\n",
              "      <th>Edad</th>\n",
              "      <th>Tiempo_CDJuarez</th>\n",
              "      <th>Estado_Civil</th>\n",
              "      <th>Numero_Hijos</th>\n",
              "    </tr>\n",
              "  </thead>\n",
              "  <tbody>\n",
              "    <tr>\n",
              "      <th>0</th>\n",
              "      <td>6</td>\n",
              "      <td>1</td>\n",
              "      <td>1</td>\n",
              "      <td>2</td>\n",
              "      <td>2</td>\n",
              "      <td>0</td>\n",
              "      <td>5</td>\n",
              "      <td>55.200000</td>\n",
              "      <td>0</td>\n",
              "      <td>31</td>\n",
              "      <td>2</td>\n",
              "      <td>4</td>\n",
              "      <td>0</td>\n",
              "    </tr>\n",
              "    <tr>\n",
              "      <th>1</th>\n",
              "      <td>7</td>\n",
              "      <td>0</td>\n",
              "      <td>0</td>\n",
              "      <td>2</td>\n",
              "      <td>0</td>\n",
              "      <td>0</td>\n",
              "      <td>6</td>\n",
              "      <td>66.433333</td>\n",
              "      <td>1</td>\n",
              "      <td>25</td>\n",
              "      <td>2</td>\n",
              "      <td>4</td>\n",
              "      <td>0</td>\n",
              "    </tr>\n",
              "    <tr>\n",
              "      <th>2</th>\n",
              "      <td>14</td>\n",
              "      <td>0</td>\n",
              "      <td>0</td>\n",
              "      <td>2</td>\n",
              "      <td>0</td>\n",
              "      <td>5</td>\n",
              "      <td>4</td>\n",
              "      <td>40.766667</td>\n",
              "      <td>1</td>\n",
              "      <td>23</td>\n",
              "      <td>2</td>\n",
              "      <td>4</td>\n",
              "      <td>0</td>\n",
              "    </tr>\n",
              "    <tr>\n",
              "      <th>5</th>\n",
              "      <td>10</td>\n",
              "      <td>0</td>\n",
              "      <td>0</td>\n",
              "      <td>2</td>\n",
              "      <td>0</td>\n",
              "      <td>2</td>\n",
              "      <td>5</td>\n",
              "      <td>52.666667</td>\n",
              "      <td>1</td>\n",
              "      <td>38</td>\n",
              "      <td>2</td>\n",
              "      <td>0</td>\n",
              "      <td>3</td>\n",
              "    </tr>\n",
              "    <tr>\n",
              "      <th>7</th>\n",
              "      <td>7</td>\n",
              "      <td>0</td>\n",
              "      <td>0</td>\n",
              "      <td>2</td>\n",
              "      <td>1</td>\n",
              "      <td>3</td>\n",
              "      <td>3</td>\n",
              "      <td>24.900000</td>\n",
              "      <td>0</td>\n",
              "      <td>27</td>\n",
              "      <td>2</td>\n",
              "      <td>4</td>\n",
              "      <td>1</td>\n",
              "    </tr>\n",
              "  </tbody>\n",
              "</table>\n",
              "</div>\n",
              "    <div class=\"colab-df-buttons\">\n",
              "\n",
              "  <div class=\"colab-df-container\">\n",
              "    <button class=\"colab-df-convert\" onclick=\"convertToInteractive('df-bd756269-4080-49c3-a9c5-de84f88f2561')\"\n",
              "            title=\"Convert this dataframe to an interactive table.\"\n",
              "            style=\"display:none;\">\n",
              "\n",
              "  <svg xmlns=\"http://www.w3.org/2000/svg\" height=\"24px\" viewBox=\"0 -960 960 960\">\n",
              "    <path d=\"M120-120v-720h720v720H120Zm60-500h600v-160H180v160Zm220 220h160v-160H400v160Zm0 220h160v-160H400v160ZM180-400h160v-160H180v160Zm440 0h160v-160H620v160ZM180-180h160v-160H180v160Zm440 0h160v-160H620v160Z\"/>\n",
              "  </svg>\n",
              "    </button>\n",
              "\n",
              "  <style>\n",
              "    .colab-df-container {\n",
              "      display:flex;\n",
              "      gap: 12px;\n",
              "    }\n",
              "\n",
              "    .colab-df-convert {\n",
              "      background-color: #E8F0FE;\n",
              "      border: none;\n",
              "      border-radius: 50%;\n",
              "      cursor: pointer;\n",
              "      display: none;\n",
              "      fill: #1967D2;\n",
              "      height: 32px;\n",
              "      padding: 0 0 0 0;\n",
              "      width: 32px;\n",
              "    }\n",
              "\n",
              "    .colab-df-convert:hover {\n",
              "      background-color: #E2EBFA;\n",
              "      box-shadow: 0px 1px 2px rgba(60, 64, 67, 0.3), 0px 1px 3px 1px rgba(60, 64, 67, 0.15);\n",
              "      fill: #174EA6;\n",
              "    }\n",
              "\n",
              "    .colab-df-buttons div {\n",
              "      margin-bottom: 4px;\n",
              "    }\n",
              "\n",
              "    [theme=dark] .colab-df-convert {\n",
              "      background-color: #3B4455;\n",
              "      fill: #D2E3FC;\n",
              "    }\n",
              "\n",
              "    [theme=dark] .colab-df-convert:hover {\n",
              "      background-color: #434B5C;\n",
              "      box-shadow: 0px 1px 3px 1px rgba(0, 0, 0, 0.15);\n",
              "      filter: drop-shadow(0px 1px 2px rgba(0, 0, 0, 0.3));\n",
              "      fill: #FFFFFF;\n",
              "    }\n",
              "  </style>\n",
              "\n",
              "    <script>\n",
              "      const buttonEl =\n",
              "        document.querySelector('#df-bd756269-4080-49c3-a9c5-de84f88f2561 button.colab-df-convert');\n",
              "      buttonEl.style.display =\n",
              "        google.colab.kernel.accessAllowed ? 'block' : 'none';\n",
              "\n",
              "      async function convertToInteractive(key) {\n",
              "        const element = document.querySelector('#df-bd756269-4080-49c3-a9c5-de84f88f2561');\n",
              "        const dataTable =\n",
              "          await google.colab.kernel.invokeFunction('convertToInteractive',\n",
              "                                                    [key], {});\n",
              "        if (!dataTable) return;\n",
              "\n",
              "        const docLinkHtml = 'Like what you see? Visit the ' +\n",
              "          '<a target=\"_blank\" href=https://colab.research.google.com/notebooks/data_table.ipynb>data table notebook</a>'\n",
              "          + ' to learn more about interactive tables.';\n",
              "        element.innerHTML = '';\n",
              "        dataTable['output_type'] = 'display_data';\n",
              "        await google.colab.output.renderOutput(dataTable, element);\n",
              "        const docLink = document.createElement('div');\n",
              "        docLink.innerHTML = docLinkHtml;\n",
              "        element.appendChild(docLink);\n",
              "      }\n",
              "    </script>\n",
              "  </div>\n",
              "\n",
              "\n",
              "<div id=\"df-677a992f-623a-4ee0-baea-4beae86bffb1\">\n",
              "  <button class=\"colab-df-quickchart\" onclick=\"quickchart('df-677a992f-623a-4ee0-baea-4beae86bffb1')\"\n",
              "            title=\"Suggest charts\"\n",
              "            style=\"display:none;\">\n",
              "\n",
              "<svg xmlns=\"http://www.w3.org/2000/svg\" height=\"24px\"viewBox=\"0 0 24 24\"\n",
              "     width=\"24px\">\n",
              "    <g>\n",
              "        <path d=\"M19 3H5c-1.1 0-2 .9-2 2v14c0 1.1.9 2 2 2h14c1.1 0 2-.9 2-2V5c0-1.1-.9-2-2-2zM9 17H7v-7h2v7zm4 0h-2V7h2v10zm4 0h-2v-4h2v4z\"/>\n",
              "    </g>\n",
              "</svg>\n",
              "  </button>\n",
              "\n",
              "<style>\n",
              "  .colab-df-quickchart {\n",
              "      --bg-color: #E8F0FE;\n",
              "      --fill-color: #1967D2;\n",
              "      --hover-bg-color: #E2EBFA;\n",
              "      --hover-fill-color: #174EA6;\n",
              "      --disabled-fill-color: #AAA;\n",
              "      --disabled-bg-color: #DDD;\n",
              "  }\n",
              "\n",
              "  [theme=dark] .colab-df-quickchart {\n",
              "      --bg-color: #3B4455;\n",
              "      --fill-color: #D2E3FC;\n",
              "      --hover-bg-color: #434B5C;\n",
              "      --hover-fill-color: #FFFFFF;\n",
              "      --disabled-bg-color: #3B4455;\n",
              "      --disabled-fill-color: #666;\n",
              "  }\n",
              "\n",
              "  .colab-df-quickchart {\n",
              "    background-color: var(--bg-color);\n",
              "    border: none;\n",
              "    border-radius: 50%;\n",
              "    cursor: pointer;\n",
              "    display: none;\n",
              "    fill: var(--fill-color);\n",
              "    height: 32px;\n",
              "    padding: 0;\n",
              "    width: 32px;\n",
              "  }\n",
              "\n",
              "  .colab-df-quickchart:hover {\n",
              "    background-color: var(--hover-bg-color);\n",
              "    box-shadow: 0 1px 2px rgba(60, 64, 67, 0.3), 0 1px 3px 1px rgba(60, 64, 67, 0.15);\n",
              "    fill: var(--button-hover-fill-color);\n",
              "  }\n",
              "\n",
              "  .colab-df-quickchart-complete:disabled,\n",
              "  .colab-df-quickchart-complete:disabled:hover {\n",
              "    background-color: var(--disabled-bg-color);\n",
              "    fill: var(--disabled-fill-color);\n",
              "    box-shadow: none;\n",
              "  }\n",
              "\n",
              "  .colab-df-spinner {\n",
              "    border: 2px solid var(--fill-color);\n",
              "    border-color: transparent;\n",
              "    border-bottom-color: var(--fill-color);\n",
              "    animation:\n",
              "      spin 1s steps(1) infinite;\n",
              "  }\n",
              "\n",
              "  @keyframes spin {\n",
              "    0% {\n",
              "      border-color: transparent;\n",
              "      border-bottom-color: var(--fill-color);\n",
              "      border-left-color: var(--fill-color);\n",
              "    }\n",
              "    20% {\n",
              "      border-color: transparent;\n",
              "      border-left-color: var(--fill-color);\n",
              "      border-top-color: var(--fill-color);\n",
              "    }\n",
              "    30% {\n",
              "      border-color: transparent;\n",
              "      border-left-color: var(--fill-color);\n",
              "      border-top-color: var(--fill-color);\n",
              "      border-right-color: var(--fill-color);\n",
              "    }\n",
              "    40% {\n",
              "      border-color: transparent;\n",
              "      border-right-color: var(--fill-color);\n",
              "      border-top-color: var(--fill-color);\n",
              "    }\n",
              "    60% {\n",
              "      border-color: transparent;\n",
              "      border-right-color: var(--fill-color);\n",
              "    }\n",
              "    80% {\n",
              "      border-color: transparent;\n",
              "      border-right-color: var(--fill-color);\n",
              "      border-bottom-color: var(--fill-color);\n",
              "    }\n",
              "    90% {\n",
              "      border-color: transparent;\n",
              "      border-bottom-color: var(--fill-color);\n",
              "    }\n",
              "  }\n",
              "</style>\n",
              "\n",
              "  <script>\n",
              "    async function quickchart(key) {\n",
              "      const quickchartButtonEl =\n",
              "        document.querySelector('#' + key + ' button');\n",
              "      quickchartButtonEl.disabled = true;  // To prevent multiple clicks.\n",
              "      quickchartButtonEl.classList.add('colab-df-spinner');\n",
              "      try {\n",
              "        const charts = await google.colab.kernel.invokeFunction(\n",
              "            'suggestCharts', [key], {});\n",
              "      } catch (error) {\n",
              "        console.error('Error during call to suggestCharts:', error);\n",
              "      }\n",
              "      quickchartButtonEl.classList.remove('colab-df-spinner');\n",
              "      quickchartButtonEl.classList.add('colab-df-quickchart-complete');\n",
              "    }\n",
              "    (() => {\n",
              "      let quickchartButtonEl =\n",
              "        document.querySelector('#df-677a992f-623a-4ee0-baea-4beae86bffb1 button');\n",
              "      quickchartButtonEl.style.display =\n",
              "        google.colab.kernel.accessAllowed ? 'block' : 'none';\n",
              "    })();\n",
              "  </script>\n",
              "</div>\n",
              "    </div>\n",
              "  </div>\n"
            ]
          },
          "metadata": {},
          "execution_count": 12
        }
      ]
    },
    {
      "cell_type": "markdown",
      "source": [
        "# Division de Datos\n",
        "\n",
        "**Se dividiran los datos de acuerdo a un porcentaje de 80-20 en entrenamiento y prueba**"
      ],
      "metadata": {
        "id": "ZjQIeXVog5pw"
      }
    },
    {
      "cell_type": "code",
      "source": [
        "from sklearn.model_selection import train_test_split\n",
        "\n",
        "X = df.drop('Motivo_Renuncia', axis=1)\n",
        "y = df['Motivo_Renuncia']\n",
        "\n",
        "X_train, X_test, y_train, y_test = train_test_split(X, y, test_size=0.2, random_state=42)\n"
      ],
      "metadata": {
        "id": "9zy-x2rvguZE"
      },
      "execution_count": null,
      "outputs": []
    },
    {
      "cell_type": "markdown",
      "source": [
        "# Modelos\n",
        "\n",
        "**Los modelos de clasificacion que se usaran son los siguientes:**\n",
        "\n",
        "* RandomForestClassifier\n",
        "* DecisionTreeClassifier\n",
        "* LogisticRegression"
      ],
      "metadata": {
        "id": "KSqOta1KhGbm"
      }
    },
    {
      "cell_type": "markdown",
      "source": [
        "## RandomForestClassifier\n",
        "\n",
        "**Contexto de Uso:**\n",
        "\n",
        "* Ideal para problemas de clasificación, especialmente cuando hay un gran número de características o variables predictivas.\n",
        "* Útil cuando se busca un modelo robusto y resistente al sobreajuste.\n",
        "* Capaz de manejar automáticamente la importancia de las características y manejar conjuntos de datos grandes y complejos.\n",
        "\n",
        "**Características del Modelo:**\n",
        "\n",
        "* Ensamble de árboles de decisión.\n",
        "* Cada árbol se entrena con una muestra diferente del conjunto de datos y las predicciones se combinan para obtener una predicción final.\n",
        "* Puede manejar tanto problemas de clasificación como de regresión.\n",
        "\n",
        "**Consideraciones:**\n",
        "\n",
        "* Puede ser propenso a sobreajuste en conjuntos de datos pequeños con ruido.\n",
        "* Ofrece una buena interpretabilidad de las características más importantes."
      ],
      "metadata": {
        "id": "nUQhfNNyhRiw"
      }
    },
    {
      "cell_type": "code",
      "source": [
        "from sklearn.ensemble import RandomForestClassifier\n",
        "from sklearn.metrics import classification_report\n",
        "\n",
        "model = RandomForestClassifier(n_estimators=100, random_state=42)\n",
        "model.fit(X_train, y_train)\n",
        "\n",
        "\n",
        "y_pred = model.predict(X_test)\n",
        "print(classification_report(y_test, y_pred))"
      ],
      "metadata": {
        "colab": {
          "base_uri": "https://localhost:8080/"
        },
        "id": "LBEHdtEOhU3Z",
        "outputId": "254a4594-04bf-4cd3-cada-79fdfb2221f7"
      },
      "execution_count": null,
      "outputs": [
        {
          "output_type": "stream",
          "name": "stdout",
          "text": [
            "              precision    recall  f1-score   support\n",
            "\n",
            "           0       0.00      0.00      0.00         2\n",
            "           1       0.00      0.00      0.00         2\n",
            "           2       0.09      0.07      0.08        14\n",
            "           3       0.00      0.00      0.00         1\n",
            "           4       1.00      1.00      1.00         1\n",
            "           5       0.00      0.00      0.00         1\n",
            "           6       0.00      0.00      0.00         1\n",
            "           7       0.08      0.07      0.07        15\n",
            "           8       0.14      0.10      0.12        10\n",
            "           9       0.00      0.00      0.00        21\n",
            "          10       0.53      0.65      0.58        46\n",
            "          11       0.40      0.50      0.45        68\n",
            "          12       0.22      0.29      0.25        38\n",
            "          13       0.00      0.00      0.00         4\n",
            "          14       0.21      0.17      0.19        53\n",
            "\n",
            "    accuracy                           0.32       277\n",
            "   macro avg       0.18      0.19      0.18       277\n",
            "weighted avg       0.27      0.32      0.29       277\n",
            "\n"
          ]
        },
        {
          "output_type": "stream",
          "name": "stderr",
          "text": [
            "/usr/local/lib/python3.10/dist-packages/sklearn/metrics/_classification.py:1344: UndefinedMetricWarning: Precision and F-score are ill-defined and being set to 0.0 in labels with no predicted samples. Use `zero_division` parameter to control this behavior.\n",
            "  _warn_prf(average, modifier, msg_start, len(result))\n",
            "/usr/local/lib/python3.10/dist-packages/sklearn/metrics/_classification.py:1344: UndefinedMetricWarning: Precision and F-score are ill-defined and being set to 0.0 in labels with no predicted samples. Use `zero_division` parameter to control this behavior.\n",
            "  _warn_prf(average, modifier, msg_start, len(result))\n",
            "/usr/local/lib/python3.10/dist-packages/sklearn/metrics/_classification.py:1344: UndefinedMetricWarning: Precision and F-score are ill-defined and being set to 0.0 in labels with no predicted samples. Use `zero_division` parameter to control this behavior.\n",
            "  _warn_prf(average, modifier, msg_start, len(result))\n"
          ]
        }
      ]
    },
    {
      "cell_type": "markdown",
      "source": [
        "### Mejora del modelo\n",
        "\n",
        "**Se realiza una búsqueda exhaustiva de hiperparámetros para el modelo utilizando la clase GridSearchCV, y luego utiliza el mejor modelo encontrado para hacer predicciones en un conjunto de prueba.**"
      ],
      "metadata": {
        "id": "Fv4aY2XLhc_d"
      }
    },
    {
      "cell_type": "code",
      "source": [
        "from sklearn.model_selection import GridSearchCV\n",
        "\n",
        "param_grid = {'n_estimators': [50, 100, 200], 'max_depth': [None, 10, 20]}\n",
        "grid_search = GridSearchCV(RandomForestClassifier(random_state=42), param_grid, cv=3)\n",
        "grid_search.fit(X_train, y_train)\n",
        "best_model = grid_search.best_estimator_\n",
        "\n",
        "y_pred = best_model.predict(X_test)"
      ],
      "metadata": {
        "colab": {
          "base_uri": "https://localhost:8080/"
        },
        "id": "Z-rBNxYkhpZV",
        "outputId": "944376de-bc0f-4fad-8fd0-404615282608"
      },
      "execution_count": null,
      "outputs": [
        {
          "output_type": "stream",
          "name": "stderr",
          "text": [
            "/usr/local/lib/python3.10/dist-packages/sklearn/model_selection/_split.py:700: UserWarning: The least populated class in y has only 2 members, which is less than n_splits=3.\n",
            "  warnings.warn(\n"
          ]
        }
      ]
    },
    {
      "cell_type": "markdown",
      "source": [
        "**La búsqueda de hiperparámetros nos puede ayudar a encontrar la combinación óptima que mejora el rendimiento del modelo en función de la métrica de evaluación seleccionada (por defecto, la precisión).**"
      ],
      "metadata": {
        "id": "-T0wXZWO1rbS"
      }
    },
    {
      "cell_type": "markdown",
      "source": [
        "### Metricas"
      ],
      "metadata": {
        "id": "pLYOHVSQh-xY"
      }
    },
    {
      "cell_type": "code",
      "source": [
        "#Matriz de confusion\n",
        "from sklearn.metrics import confusion_matrix\n",
        "\n",
        "conf_matrix = confusion_matrix(y_test, y_pred)\n",
        "print(\"Matriz de Confusión:\")\n",
        "print(conf_matrix)\n"
      ],
      "metadata": {
        "colab": {
          "base_uri": "https://localhost:8080/"
        },
        "id": "vcS7yNIziA_y",
        "outputId": "4d822b93-dc0d-497e-adda-44fb3c34b3b6"
      },
      "execution_count": null,
      "outputs": [
        {
          "output_type": "stream",
          "name": "stdout",
          "text": [
            "Matriz de Confusión:\n",
            "[[ 0  0  0  0  0  0  0  0  0  0  0  1  0  0  1]\n",
            " [ 0  0  0  0  0  0  0  0  0  0  0  1  0  0  1]\n",
            " [ 0  0  0  0  0  0  0  0  0  0  5  4  2  0  3]\n",
            " [ 0  0  0  0  0  0  0  0  0  0  0  1  0  0  0]\n",
            " [ 0  0  0  0  1  0  0  0  0  0  0  0  0  0  0]\n",
            " [ 0  0  0  0  0  0  0  0  0  0  0  1  0  0  0]\n",
            " [ 0  0  0  0  0  0  0  0  0  0  0  1  0  0  0]\n",
            " [ 0  0  0  0  0  0  0  0  1  1  1  6  5  0  1]\n",
            " [ 0  0  0  0  0  0  0  0  1  0  1  4  1  0  3]\n",
            " [ 0  0  0  0  0  0  0  1  0  0  0 10  4  0  6]\n",
            " [ 0  0  1  0  0  0  0  0  0  0 35  2  5  0  3]\n",
            " [ 0  0  0  0  0  0  0  0  1  0  1 46  8  0 12]\n",
            " [ 0  0  0  0  0  0  0  1  1  0 10  8 10  0  8]\n",
            " [ 0  0  0  0  0  0  0  0  0  0  0  1  2  0  1]\n",
            " [ 0  1  0  0  0  0  0  0  1  0  3 25 15  0  8]]\n"
          ]
        }
      ]
    },
    {
      "cell_type": "markdown",
      "source": [
        "**La matriz de confusión es útil para evaluar el rendimiento del modelo, especialmente en problemas de clasificación. Proporciona información sobre cuántas instancias fueron clasificadas correctamente y cuántas fueron clasificadas incorrectamente para cada clase.**\n",
        "\n",
        "\n",
        "\n",
        "```\n",
        "[[TN  FP]\n",
        " [FN  TP]]\n",
        "\n",
        "```\n",
        "* TN (True Negatives): Instancias que fueron clasificadas correctamente como negativas.\n",
        "* FP (False Positives): Instancias que fueron clasificadas incorrectamente como positivas.\n",
        "* FN (False Negatives): Instancias que fueron clasificadas incorrectamente como negativas.\n",
        "* TP (True Positives): Instancias que fueron clasificadas correctamente como positivas.\n"
      ],
      "metadata": {
        "id": "j6h9hV222TQo"
      }
    },
    {
      "cell_type": "code",
      "source": [
        "#Exactitud\n",
        "from sklearn.metrics import accuracy_score\n",
        "\n",
        "accuracy = accuracy_score(y_test, y_pred)\n",
        "print(f\"Exactitud del modelo: {accuracy}\")"
      ],
      "metadata": {
        "colab": {
          "base_uri": "https://localhost:8080/"
        },
        "id": "eCGyWezDiG43",
        "outputId": "294c5de6-838d-4815-9aff-45baefce0881"
      },
      "execution_count": null,
      "outputs": [
        {
          "output_type": "stream",
          "name": "stdout",
          "text": [
            "Exactitud del modelo: 0.36462093862815886\n"
          ]
        }
      ]
    },
    {
      "cell_type": "markdown",
      "source": [
        "La exactitud es una métrica comúnmente utilizada para evaluar modelos de clasificación y se calcula mediante la fórmula:\n",
        "\n",
        "![](https://live.staticflickr.com/65535/48051257888_760554732e_b.jpg)\n",
        "\n",
        "La exactitud es una métrica útil, pero su interpretación puede verse afectada por el desequilibrio de clases. En casos de clases desequilibradas, puede ser beneficioso considerar otras métricas como precisión, recall o F1-score."
      ],
      "metadata": {
        "id": "embDmVNP36ZX"
      }
    },
    {
      "cell_type": "code",
      "source": [
        "#Precisión, Recall y F1-Score\n",
        "from sklearn.metrics import classification_report\n",
        "\n",
        "classification_rep = classification_report(y_test, y_pred)\n",
        "print(\"Reporte de Clasificación:\")\n",
        "print(classification_rep)\n"
      ],
      "metadata": {
        "colab": {
          "base_uri": "https://localhost:8080/"
        },
        "id": "QdOD3dxEiLtb",
        "outputId": "615c31b0-dcf3-42ae-a614-570e52f6e364"
      },
      "execution_count": null,
      "outputs": [
        {
          "output_type": "stream",
          "name": "stdout",
          "text": [
            "Reporte de Clasificación:\n",
            "              precision    recall  f1-score   support\n",
            "\n",
            "           0       0.00      0.00      0.00         2\n",
            "           1       0.00      0.00      0.00         2\n",
            "           2       0.00      0.00      0.00        14\n",
            "           3       0.00      0.00      0.00         1\n",
            "           4       1.00      1.00      1.00         1\n",
            "           5       0.00      0.00      0.00         1\n",
            "           6       0.00      0.00      0.00         1\n",
            "           7       0.00      0.00      0.00        15\n",
            "           8       0.20      0.10      0.13        10\n",
            "           9       0.00      0.00      0.00        21\n",
            "          10       0.62      0.76      0.69        46\n",
            "          11       0.41      0.68      0.51        68\n",
            "          12       0.19      0.26      0.22        38\n",
            "          13       0.00      0.00      0.00         4\n",
            "          14       0.17      0.15      0.16        53\n",
            "\n",
            "    accuracy                           0.36       277\n",
            "   macro avg       0.17      0.20      0.18       277\n",
            "weighted avg       0.28      0.36      0.31       277\n",
            "\n"
          ]
        },
        {
          "output_type": "stream",
          "name": "stderr",
          "text": [
            "/usr/local/lib/python3.10/dist-packages/sklearn/metrics/_classification.py:1344: UndefinedMetricWarning: Precision and F-score are ill-defined and being set to 0.0 in labels with no predicted samples. Use `zero_division` parameter to control this behavior.\n",
            "  _warn_prf(average, modifier, msg_start, len(result))\n",
            "/usr/local/lib/python3.10/dist-packages/sklearn/metrics/_classification.py:1344: UndefinedMetricWarning: Precision and F-score are ill-defined and being set to 0.0 in labels with no predicted samples. Use `zero_division` parameter to control this behavior.\n",
            "  _warn_prf(average, modifier, msg_start, len(result))\n",
            "/usr/local/lib/python3.10/dist-packages/sklearn/metrics/_classification.py:1344: UndefinedMetricWarning: Precision and F-score are ill-defined and being set to 0.0 in labels with no predicted samples. Use `zero_division` parameter to control this behavior.\n",
            "  _warn_prf(average, modifier, msg_start, len(result))\n"
          ]
        }
      ]
    },
    {
      "cell_type": "markdown",
      "source": [
        "**El informe de clasificación proporciona una visión detallada del rendimiento del modelo para cada clase.**\n",
        "\n",
        "Precisión (Precision): La proporción de instancias clasificadas como positivas que son verdaderamente positivas.\n",
        "\n",
        "Recall (Sensibilidad o True Positive Rate): La proporción de instancias positivas que fueron correctamente identificadas por el modelo.\n",
        "\n",
        "![](https://miro.medium.com/v2/resize:fit:888/1*7J08ekAwupLBegeUI8muHA.png)\n",
        "\n",
        "\n",
        "\n",
        "F1-Score: La media armónica de precisión y recall. Es útil cuando hay un desequilibrio entre precisión y recall.\n",
        "\n",
        "![](https://inside-machinelearning.com/wp-content/uploads/2021/09/F1-Score.png)\n",
        "\n",
        "Support: El número total de instancias en cada clase."
      ],
      "metadata": {
        "id": "5-ft4yR24-OD"
      }
    },
    {
      "cell_type": "markdown",
      "source": [
        "## DecisionTreeClassifier\n",
        "\n",
        "**Contexto de Uso:**\n",
        "\n",
        "* Adecuado para problemas de clasificación y regresión.\n",
        "* Útil cuando se busca un modelo interpretable y fácil de visualizar.\n",
        "* Puede ser una buena opción para conjuntos de datos pequeños y limpios.\n",
        "\n",
        "**Características del Modelo:**\n",
        "\n",
        "* Crea un árbol de decisiones basado en las características del conjunto de datos.\n",
        "* Cada nodo en el árbol representa una decisión basada en una característica.\n",
        "* Puede manejar datos categóricos y numéricos.\n",
        "\n",
        "**Consideraciones:**\n",
        "\n",
        "* Puede ser propenso al sobreajuste, especialmente en conjuntos de datos complejos o ruidosos.\n",
        "* Puede requerir técnicas de ajuste de hiperparámetros para evitar sobreajuste."
      ],
      "metadata": {
        "id": "a1gfE0WWkBNB"
      }
    },
    {
      "cell_type": "code",
      "source": [
        "from sklearn.tree import DecisionTreeClassifier\n",
        "from sklearn.model_selection import train_test_split\n",
        "from sklearn.metrics import classification_report, accuracy_score\n",
        "\n",
        "# Crea y entrena el modelo DecisionTreeClassifier\n",
        "tree_model = DecisionTreeClassifier(random_state=42)\n",
        "tree_model.fit(X_train, y_train)\n",
        "\n",
        "# Realiza predicciones en el conjunto de prueba\n",
        "y_pred_tree = tree_model.predict(X_test)\n",
        "\n",
        "# Evalúa el rendimiento del modelo\n",
        "accuracy_tree = accuracy_score(y_test, y_pred_tree)\n",
        "print(f\"Exactitud del modelo DecisionTreeClassifier: {accuracy_tree}\\n\")\n",
        "\n",
        "# Imprime el informe de clasificación y otras métricas si lo deseas\n",
        "print(\"Reporte de Clasificación para DecisionTreeClassifier:\")\n",
        "print(classification_report(y_test, y_pred_tree))\n"
      ],
      "metadata": {
        "colab": {
          "base_uri": "https://localhost:8080/"
        },
        "id": "ocIFWjgZkYK1",
        "outputId": "b5821ba7-4dd1-4c97-f81d-d7b091cefe7d"
      },
      "execution_count": null,
      "outputs": [
        {
          "output_type": "stream",
          "name": "stdout",
          "text": [
            "Exactitud del modelo DecisionTreeClassifier: 0.259927797833935\n",
            "\n",
            "Reporte de Clasificación para DecisionTreeClassifier:\n",
            "              precision    recall  f1-score   support\n",
            "\n",
            "           0       0.00      0.00      0.00         2\n",
            "           1       0.00      0.00      0.00         2\n",
            "           2       0.16      0.21      0.18        14\n",
            "           3       0.00      0.00      0.00         1\n",
            "           4       1.00      1.00      1.00         1\n",
            "           5       0.00      0.00      0.00         1\n",
            "           6       0.00      0.00      0.00         1\n",
            "           7       0.04      0.07      0.05        15\n",
            "           8       0.00      0.00      0.00        10\n",
            "           9       0.12      0.10      0.11        21\n",
            "          10       0.53      0.54      0.54        46\n",
            "          11       0.38      0.35      0.37        68\n",
            "          12       0.11      0.11      0.11        38\n",
            "          13       0.00      0.00      0.00         4\n",
            "          14       0.27      0.23      0.24        53\n",
            "\n",
            "    accuracy                           0.26       277\n",
            "   macro avg       0.17      0.17      0.17       277\n",
            "weighted avg       0.27      0.26      0.26       277\n",
            "\n"
          ]
        },
        {
          "output_type": "stream",
          "name": "stderr",
          "text": [
            "/usr/local/lib/python3.10/dist-packages/sklearn/metrics/_classification.py:1344: UndefinedMetricWarning: Precision and F-score are ill-defined and being set to 0.0 in labels with no predicted samples. Use `zero_division` parameter to control this behavior.\n",
            "  _warn_prf(average, modifier, msg_start, len(result))\n",
            "/usr/local/lib/python3.10/dist-packages/sklearn/metrics/_classification.py:1344: UndefinedMetricWarning: Precision and F-score are ill-defined and being set to 0.0 in labels with no predicted samples. Use `zero_division` parameter to control this behavior.\n",
            "  _warn_prf(average, modifier, msg_start, len(result))\n",
            "/usr/local/lib/python3.10/dist-packages/sklearn/metrics/_classification.py:1344: UndefinedMetricWarning: Precision and F-score are ill-defined and being set to 0.0 in labels with no predicted samples. Use `zero_division` parameter to control this behavior.\n",
            "  _warn_prf(average, modifier, msg_start, len(result))\n"
          ]
        }
      ]
    },
    {
      "cell_type": "markdown",
      "source": [
        "## LogisticRegression\n",
        "\n",
        "**Contexto de Uso:**\n",
        "\n",
        "* Adecuado para problemas de clasificación binaria y multiclase.\n",
        "* Útil cuando se busca un modelo lineal que funcione bien con características lineales o aproximadamente lineales.\n",
        "* Puede ser una buena opción para problemas con interpretación de coeficientes.\n",
        "\n",
        "**Características del Modelo:**\n",
        "\n",
        "* Modelo lineal que utiliza la función logística para producir salidas entre 0 y 1.\n",
        "* Se puede entender como la probabilidad de pertenecer a una clase en lugar de una predicción directa de la clase.\n",
        "\n",
        "**Consideraciones:**\n",
        "\n",
        "* No es adecuado para relaciones no lineales entre características y resultado.\n",
        "* Sensible a valores atípicos en los datos.\n",
        "* Puede requerir preprocesamiento adicional para manejar multicolinealidad u otros problemas."
      ],
      "metadata": {
        "id": "WcEb0TtRk60d"
      }
    },
    {
      "cell_type": "code",
      "source": [
        "from sklearn.linear_model import LogisticRegression\n",
        "from sklearn.model_selection import train_test_split\n",
        "from sklearn.metrics import classification_report, accuracy_score\n",
        "\n",
        "# Crea y entrena el modelo LogisticRegression\n",
        "logreg_model = LogisticRegression(random_state=42)\n",
        "logreg_model.fit(X_train, y_train)\n",
        "\n",
        "# Realiza predicciones en el conjunto de prueba\n",
        "y_pred_logreg = logreg_model.predict(X_test)\n",
        "\n",
        "# Evalúa el rendimiento del modelo\n",
        "accuracy_logreg = accuracy_score(y_test, y_pred_logreg)\n",
        "print(f\"Exactitud del modelo LogisticRegression: {accuracy_logreg}\\n\")\n",
        "\n",
        "print(\"Reporte de Clasificación para LogisticRegression:\")\n",
        "print(classification_report(y_test, y_pred_logreg))\n"
      ],
      "metadata": {
        "colab": {
          "base_uri": "https://localhost:8080/"
        },
        "id": "GC1yKqtOk93C",
        "outputId": "64cb3924-9392-4ff2-f184-1bf55efa0fb4"
      },
      "execution_count": null,
      "outputs": [
        {
          "output_type": "stream",
          "name": "stdout",
          "text": [
            "Exactitud del modelo LogisticRegression: 0.3574007220216607\n",
            "\n",
            "Reporte de Clasificación para LogisticRegression:\n",
            "              precision    recall  f1-score   support\n",
            "\n",
            "           0       0.00      0.00      0.00         2\n",
            "           1       0.00      0.00      0.00         2\n",
            "           2       0.00      0.00      0.00        14\n",
            "           3       0.00      0.00      0.00         1\n",
            "           4       0.00      0.00      0.00         1\n",
            "           5       0.00      0.00      0.00         1\n",
            "           6       0.00      0.00      0.00         1\n",
            "           7       0.00      0.00      0.00        15\n",
            "           8       0.00      0.00      0.00        10\n",
            "           9       0.00      0.00      0.00        21\n",
            "          10       0.38      0.67      0.49        46\n",
            "          11       0.45      0.72      0.55        68\n",
            "          12       0.32      0.24      0.27        38\n",
            "          13       0.00      0.00      0.00         4\n",
            "          14       0.18      0.19      0.19        53\n",
            "\n",
            "    accuracy                           0.36       277\n",
            "   macro avg       0.09      0.12      0.10       277\n",
            "weighted avg       0.25      0.36      0.29       277\n",
            "\n"
          ]
        },
        {
          "output_type": "stream",
          "name": "stderr",
          "text": [
            "/usr/local/lib/python3.10/dist-packages/sklearn/linear_model/_logistic.py:458: ConvergenceWarning: lbfgs failed to converge (status=1):\n",
            "STOP: TOTAL NO. of ITERATIONS REACHED LIMIT.\n",
            "\n",
            "Increase the number of iterations (max_iter) or scale the data as shown in:\n",
            "    https://scikit-learn.org/stable/modules/preprocessing.html\n",
            "Please also refer to the documentation for alternative solver options:\n",
            "    https://scikit-learn.org/stable/modules/linear_model.html#logistic-regression\n",
            "  n_iter_i = _check_optimize_result(\n",
            "/usr/local/lib/python3.10/dist-packages/sklearn/metrics/_classification.py:1344: UndefinedMetricWarning: Precision and F-score are ill-defined and being set to 0.0 in labels with no predicted samples. Use `zero_division` parameter to control this behavior.\n",
            "  _warn_prf(average, modifier, msg_start, len(result))\n",
            "/usr/local/lib/python3.10/dist-packages/sklearn/metrics/_classification.py:1344: UndefinedMetricWarning: Precision and F-score are ill-defined and being set to 0.0 in labels with no predicted samples. Use `zero_division` parameter to control this behavior.\n",
            "  _warn_prf(average, modifier, msg_start, len(result))\n",
            "/usr/local/lib/python3.10/dist-packages/sklearn/metrics/_classification.py:1344: UndefinedMetricWarning: Precision and F-score are ill-defined and being set to 0.0 in labels with no predicted samples. Use `zero_division` parameter to control this behavior.\n",
            "  _warn_prf(average, modifier, msg_start, len(result))\n"
          ]
        }
      ]
    },
    {
      "cell_type": "markdown",
      "source": [
        "**En general los modelos tienen muy poca exactitud pero esto es debido a las multiclases que existen, que pasa si trabajamos con solo 5 clases de Motivo_Renuncia?**"
      ],
      "metadata": {
        "id": "tP6RDz61lMpg"
      }
    },
    {
      "cell_type": "markdown",
      "source": [
        "# Prueba del modelo con solo 5 clases en Motivo_Renuncia\n",
        "\n",
        "**Se probara como funciona el modelo de acuerdo a solo 5 de las principales clases de la columna objetivo Motivo_Renuncia**"
      ],
      "metadata": {
        "id": "ir5_lbD7lXjj"
      }
    },
    {
      "cell_type": "markdown",
      "source": [
        "## Division Datos"
      ],
      "metadata": {
        "id": "opB-of8CmqX-"
      }
    },
    {
      "cell_type": "code",
      "source": [
        "df_adicional['Motivo_Renuncia'].value_counts()"
      ],
      "metadata": {
        "colab": {
          "base_uri": "https://localhost:8080/"
        },
        "id": "jKTFyX_jpBPP",
        "outputId": "e152e7ae-05a4-42b3-d4fa-9908790b6ab5"
      },
      "execution_count": null,
      "outputs": [
        {
          "output_type": "execute_result",
          "data": {
            "text/plain": [
              "2    308\n",
              "4    237\n",
              "1    218\n",
              "3    197\n",
              "0     94\n",
              "Name: Motivo_Renuncia, dtype: int64"
            ]
          },
          "metadata": {},
          "execution_count": 23
        }
      ]
    },
    {
      "cell_type": "code",
      "source": [
        "from sklearn.model_selection import train_test_split\n",
        "\n",
        "X = df_adicional.drop('Motivo_Renuncia', axis=1)\n",
        "y = df_adicional['Motivo_Renuncia']\n",
        "\n",
        "X_train, X_test, y_train, y_test = train_test_split(X, y, test_size=0.2, random_state=42)"
      ],
      "metadata": {
        "id": "c4W7hzpdhCX3"
      },
      "execution_count": null,
      "outputs": []
    },
    {
      "cell_type": "markdown",
      "source": [
        "## Modelo RandomForest"
      ],
      "metadata": {
        "id": "wkheFcLomygF"
      }
    },
    {
      "cell_type": "code",
      "source": [
        "from sklearn.ensemble import RandomForestClassifier\n",
        "from sklearn.metrics import classification_report\n",
        "\n",
        "model = RandomForestClassifier(n_estimators=100, random_state=42)\n",
        "model.fit(X_train, y_train)\n",
        "\n",
        "\n",
        "y_pred = model.predict(X_test)\n",
        "print(classification_report(y_test, y_pred))"
      ],
      "metadata": {
        "colab": {
          "base_uri": "https://localhost:8080/"
        },
        "id": "LrUKE_rJm1_c",
        "outputId": "086278f9-c064-4e3a-d261-3b299ce85f92"
      },
      "execution_count": null,
      "outputs": [
        {
          "output_type": "stream",
          "name": "stdout",
          "text": [
            "              precision    recall  f1-score   support\n",
            "\n",
            "           0       0.12      0.06      0.08        16\n",
            "           1       0.74      0.64      0.69        53\n",
            "           2       0.64      0.67      0.66        70\n",
            "           3       0.30      0.41      0.35        34\n",
            "           4       0.34      0.34      0.34        38\n",
            "\n",
            "    accuracy                           0.52       211\n",
            "   macro avg       0.43      0.43      0.42       211\n",
            "weighted avg       0.52      0.52      0.51       211\n",
            "\n"
          ]
        }
      ]
    },
    {
      "cell_type": "code",
      "source": [
        "from sklearn.model_selection import GridSearchCV\n",
        "\n",
        "param_grid = {'n_estimators': [50, 100, 200], 'max_depth': [None, 10, 20]}\n",
        "grid_search = GridSearchCV(RandomForestClassifier(random_state=42), param_grid, cv=3)\n",
        "grid_search.fit(X_train, y_train)\n",
        "best_model = grid_search.best_estimator_\n",
        "\n",
        "y_pred = best_model.predict(X_test)"
      ],
      "metadata": {
        "id": "KC58W58im6xr"
      },
      "execution_count": null,
      "outputs": []
    },
    {
      "cell_type": "code",
      "source": [
        "#Matriz de confusion\n",
        "from sklearn.metrics import confusion_matrix\n",
        "\n",
        "conf_matrix = confusion_matrix(y_test, y_pred)\n",
        "print(\"Matriz de Confusión:\")\n",
        "print(conf_matrix)"
      ],
      "metadata": {
        "colab": {
          "base_uri": "https://localhost:8080/"
        },
        "id": "zycHz2vXm0td",
        "outputId": "8788ca05-09bb-4c88-c900-2932cb2d4e55"
      },
      "execution_count": null,
      "outputs": [
        {
          "output_type": "stream",
          "name": "stdout",
          "text": [
            "Matriz de Confusión:\n",
            "[[ 0  1  9  4  2]\n",
            " [ 0 32  3 10  8]\n",
            " [ 1  2 51  6 10]\n",
            " [ 0  6  4 14 10]\n",
            " [ 0  2 10 11 15]]\n"
          ]
        }
      ]
    },
    {
      "cell_type": "code",
      "source": [
        "#Exactitud\n",
        "from sklearn.metrics import accuracy_score\n",
        "\n",
        "accuracy = accuracy_score(y_test, y_pred)\n",
        "print(f\"Exactitud del modelo: {accuracy}\")"
      ],
      "metadata": {
        "colab": {
          "base_uri": "https://localhost:8080/"
        },
        "id": "gt99UgAenBnP",
        "outputId": "419408a0-cab9-489d-a246-11637570d41b"
      },
      "execution_count": null,
      "outputs": [
        {
          "output_type": "stream",
          "name": "stdout",
          "text": [
            "Exactitud del modelo: 0.5308056872037915\n"
          ]
        }
      ]
    },
    {
      "cell_type": "code",
      "source": [
        "#Precisión, Recall y F1-Score\n",
        "from sklearn.metrics import classification_report\n",
        "\n",
        "classification_rep = classification_report(y_test, y_pred)\n",
        "print(\"Reporte de Clasificación:\")\n",
        "print(classification_rep)"
      ],
      "metadata": {
        "colab": {
          "base_uri": "https://localhost:8080/"
        },
        "id": "Vh5UUhEQnI48",
        "outputId": "c4ac8a6b-b2e9-42e0-a330-3c9ec506fe5d"
      },
      "execution_count": null,
      "outputs": [
        {
          "output_type": "stream",
          "name": "stdout",
          "text": [
            "Reporte de Clasificación:\n",
            "              precision    recall  f1-score   support\n",
            "\n",
            "           0       0.00      0.00      0.00        16\n",
            "           1       0.74      0.60      0.67        53\n",
            "           2       0.66      0.73      0.69        70\n",
            "           3       0.31      0.41      0.35        34\n",
            "           4       0.33      0.39      0.36        38\n",
            "\n",
            "    accuracy                           0.53       211\n",
            "   macro avg       0.41      0.43      0.42       211\n",
            "weighted avg       0.52      0.53      0.52       211\n",
            "\n"
          ]
        }
      ]
    },
    {
      "cell_type": "markdown",
      "source": [
        "**El modelo tiene mejor exactitud al disminuir el numero de clases, sin embargo se debe considerar hacer una mejor codificacion de las variables categoricas a futuro o considerar optar por redes neuronales para poder entrenar el modelo de manera mas adecuada**"
      ],
      "metadata": {
        "id": "rP2SHu-P57I5"
      }
    },
    {
      "cell_type": "markdown",
      "source": [
        "# Exportar modelo"
      ],
      "metadata": {
        "id": "1qawN8fv6Mec"
      }
    },
    {
      "cell_type": "code",
      "source": [
        "!pip install joblib"
      ],
      "metadata": {
        "colab": {
          "base_uri": "https://localhost:8080/"
        },
        "id": "f9c1BSi_6KjR",
        "outputId": "a264bbb8-2132-4997-fc46-81e4a4cb98f4"
      },
      "execution_count": null,
      "outputs": [
        {
          "output_type": "stream",
          "name": "stdout",
          "text": [
            "Requirement already satisfied: joblib in /usr/local/lib/python3.10/dist-packages (1.3.2)\n"
          ]
        }
      ]
    },
    {
      "cell_type": "code",
      "source": [
        "import joblib\n",
        "\n",
        "# Guardar el modelo en un archivo\n",
        "joblib.dump(best_model, 'modelo.joblib')\n"
      ],
      "metadata": {
        "colab": {
          "base_uri": "https://localhost:8080/"
        },
        "id": "l_5SmeC86YJ4",
        "outputId": "dc3c9688-31cb-4818-f881-7da41d9552fe"
      },
      "execution_count": null,
      "outputs": [
        {
          "output_type": "execute_result",
          "data": {
            "text/plain": [
              "['modelo.joblib']"
            ]
          },
          "metadata": {},
          "execution_count": 31
        }
      ]
    }
  ]
}